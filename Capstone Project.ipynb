{
 "cells": [
  {
   "cell_type": "markdown",
   "metadata": {},
   "source": [
    "# Applied Data Science Capstone Project "
   ]
  },
  {
   "cell_type": "code",
   "execution_count": 3,
   "metadata": {},
   "outputs": [
    {
     "name": "stdout",
     "output_type": "stream",
     "text": [
      "Hello Capstone Project Course\n"
     ]
    }
   ],
   "source": [
    "import pandas as pd\n",
    "import numpy as np\n",
    "import matplotlib.pyplot as plt\n",
    "\n",
    "print(\"Hello Capstone Project Course\")"
   ]
  },
  {
   "cell_type": "code",
   "execution_count": 4,
   "metadata": {},
   "outputs": [
    {
     "name": "stderr",
     "output_type": "stream",
     "text": [
      "C:\\Users\\Aeesha\\Anaconda3\\lib\\site-packages\\IPython\\core\\interactiveshell.py:3058: DtypeWarning: Columns (33) have mixed types. Specify dtype option on import or set low_memory=False.\n",
      "  interactivity=interactivity, compiler=compiler, result=result)\n"
     ]
    },
    {
     "name": "stdout",
     "output_type": "stream",
     "text": [
      "Index(['SEVERITYCODE', 'X', 'Y', 'OBJECTID', 'INCKEY', 'COLDETKEY', 'REPORTNO',\n",
      "       'STATUS', 'ADDRTYPE', 'INTKEY', 'LOCATION', 'EXCEPTRSNCODE',\n",
      "       'EXCEPTRSNDESC', 'SEVERITYCODE.1', 'SEVERITYDESC', 'COLLISIONTYPE',\n",
      "       'PERSONCOUNT', 'PEDCOUNT', 'PEDCYLCOUNT', 'VEHCOUNT', 'INCDATE',\n",
      "       'INCDTTM', 'JUNCTIONTYPE', 'SDOT_COLCODE', 'SDOT_COLDESC',\n",
      "       'INATTENTIONIND', 'UNDERINFL', 'WEATHER', 'ROADCOND', 'LIGHTCOND',\n",
      "       'PEDROWNOTGRNT', 'SDOTCOLNUM', 'SPEEDING', 'ST_COLCODE', 'ST_COLDESC',\n",
      "       'SEGLANEKEY', 'CROSSWALKKEY', 'HITPARKEDCAR'],\n",
      "      dtype='object')\n"
     ]
    }
   ],
   "source": [
    "df = pd.read_csv(\"Data-Collisions.csv\")\n",
    "df.head()\n",
    "print(df.columns)\n"
   ]
  },
  {
   "cell_type": "code",
   "execution_count": 5,
   "metadata": {},
   "outputs": [
    {
     "data": {
      "text/plain": [
       "0         NaN\n",
       "1         NaN\n",
       "2         NaN\n",
       "3         NaN\n",
       "4         NaN\n",
       "         ... \n",
       "194668    NaN\n",
       "194669    NaN\n",
       "194670    NaN\n",
       "194671    NaN\n",
       "194672    NaN\n",
       "Name: SPEEDING, Length: 194673, dtype: object"
      ]
     },
     "execution_count": 5,
     "metadata": {},
     "output_type": "execute_result"
    }
   ],
   "source": [
    "df.shape\n",
    "df['PEDROWNOTGRNT']\n",
    "df['SPEEDING']"
   ]
  },
  {
   "cell_type": "code",
   "execution_count": 6,
   "metadata": {},
   "outputs": [],
   "source": [
    "#we dont need objectID, INCKEY, COLDETKEY, INCDATE, INCDTTM, 'SDOT_COLDESC', SDOTCOLNUM, 'ST_COLCODE', 'ST_COLDESC\n",
    "#not sure = X, Y, 'SDOT_COLCODE'\n",
    "#df = df.drop(['OBJECTID', 'INCKEY', 'COLDETKEY', 'REPORTNO', 'STATUS', 'SDOTCOLNUM'])\n"
   ]
  },
  {
   "cell_type": "markdown",
   "metadata": {},
   "source": [
    "## Data Understanding - Group the data to understand the content of each attributes\n",
    "\n"
   ]
  },
  {
   "cell_type": "code",
   "execution_count": 7,
   "metadata": {},
   "outputs": [
    {
     "data": {
      "text/plain": [
       "Block           126926\n",
       "Intersection     65070\n",
       "Alley              751\n",
       "Name: ADDRTYPE, dtype: int64"
      ]
     },
     "execution_count": 7,
     "metadata": {},
     "output_type": "execute_result"
    }
   ],
   "source": [
    "df['ADDRTYPE'].value_counts()"
   ]
  },
  {
   "cell_type": "code",
   "execution_count": 8,
   "metadata": {},
   "outputs": [
    {
     "data": {
      "text/plain": [
       "Parked Car    47987\n",
       "Angles        34674\n",
       "Rear Ended    34090\n",
       "Other         23703\n",
       "Sideswipe     18609\n",
       "Left Turn     13703\n",
       "Pedestrian     6608\n",
       "Cycles         5415\n",
       "Right Turn     2956\n",
       "Head On        2024\n",
       "Name: COLLISIONTYPE, dtype: int64"
      ]
     },
     "execution_count": 8,
     "metadata": {},
     "output_type": "execute_result"
    }
   ],
   "source": [
    "df['COLLISIONTYPE'].value_counts()"
   ]
  },
  {
   "cell_type": "code",
   "execution_count": 9,
   "metadata": {},
   "outputs": [
    {
     "data": {
      "text/plain": [
       "0    187734\n",
       "1      6685\n",
       "2       226\n",
       "3        22\n",
       "4         4\n",
       "6         1\n",
       "5         1\n",
       "Name: PEDCOUNT, dtype: int64"
      ]
     },
     "execution_count": 9,
     "metadata": {},
     "output_type": "execute_result"
    }
   ],
   "source": [
    "df['PEDCOUNT'].value_counts()"
   ]
  },
  {
   "cell_type": "code",
   "execution_count": 10,
   "metadata": {},
   "outputs": [
    {
     "data": {
      "text/plain": [
       "0    189189\n",
       "1      5441\n",
       "2        43\n",
       "Name: PEDCYLCOUNT, dtype: int64"
      ]
     },
     "execution_count": 10,
     "metadata": {},
     "output_type": "execute_result"
    }
   ],
   "source": [
    "df['PEDCYLCOUNT'].value_counts() #remove it since it is not really significant"
   ]
  },
  {
   "cell_type": "code",
   "execution_count": 11,
   "metadata": {},
   "outputs": [
    {
     "data": {
      "text/plain": [
       "2     147650\n",
       "1      25748\n",
       "3      13010\n",
       "0       5085\n",
       "4       2426\n",
       "5        529\n",
       "6        146\n",
       "7         46\n",
       "8         15\n",
       "9          9\n",
       "11         6\n",
       "10         2\n",
       "12         1\n",
       "Name: VEHCOUNT, dtype: int64"
      ]
     },
     "execution_count": 11,
     "metadata": {},
     "output_type": "execute_result"
    }
   ],
   "source": [
    "df['VEHCOUNT'].value_counts()"
   ]
  },
  {
   "cell_type": "code",
   "execution_count": 12,
   "metadata": {},
   "outputs": [
    {
     "data": {
      "text/plain": [
       "Mid-Block (not related to intersection)              89800\n",
       "At Intersection (intersection related)               62810\n",
       "Mid-Block (but intersection related)                 22790\n",
       "Driveway Junction                                    10671\n",
       "At Intersection (but not related to intersection)     2098\n",
       "Ramp Junction                                          166\n",
       "Unknown                                                  9\n",
       "Name: JUNCTIONTYPE, dtype: int64"
      ]
     },
     "execution_count": 12,
     "metadata": {},
     "output_type": "execute_result"
    }
   ],
   "source": [
    "df['JUNCTIONTYPE'].value_counts()"
   ]
  },
  {
   "cell_type": "code",
   "execution_count": 13,
   "metadata": {},
   "outputs": [
    {
     "data": {
      "text/plain": [
       "Y    29805\n",
       "Name: INATTENTIONIND, dtype: int64"
      ]
     },
     "execution_count": 13,
     "metadata": {},
     "output_type": "execute_result"
    }
   ],
   "source": [
    "df['INATTENTIONIND'].value_counts() #drop because it has lots of NaN values"
   ]
  },
  {
   "cell_type": "code",
   "execution_count": 14,
   "metadata": {},
   "outputs": [
    {
     "data": {
      "text/plain": [
       "N    100274\n",
       "0     80394\n",
       "Y      5126\n",
       "1      3995\n",
       "Name: UNDERINFL, dtype: int64"
      ]
     },
     "execution_count": 14,
     "metadata": {},
     "output_type": "execute_result"
    }
   ],
   "source": [
    "df['UNDERINFL'].value_counts() #we cant make much of the data so we drop it"
   ]
  },
  {
   "cell_type": "code",
   "execution_count": 15,
   "metadata": {},
   "outputs": [
    {
     "name": "stdout",
     "output_type": "stream",
     "text": [
      "Clear                       111135\n",
      "Raining                      33145\n",
      "Overcast                     27714\n",
      "Unknown                      15091\n",
      "Snowing                        907\n",
      "Other                          832\n",
      "Fog/Smog/Smoke                 569\n",
      "Sleet/Hail/Freezing Rain       113\n",
      "Blowing Sand/Dirt               56\n",
      "Severe Crosswind                25\n",
      "Partly Cloudy                    5\n",
      "Name: WEATHER, dtype: int64\n",
      "Dry               124510\n",
      "Wet                47474\n",
      "Unknown            15078\n",
      "Ice                 1209\n",
      "Snow/Slush          1004\n",
      "Other                132\n",
      "Standing Water       115\n",
      "Sand/Mud/Dirt         75\n",
      "Oil                   64\n",
      "Name: ROADCOND, dtype: int64\n",
      "Daylight                    116137\n",
      "Dark - Street Lights On      48507\n",
      "Unknown                      13473\n",
      "Dusk                          5902\n",
      "Dawn                          2502\n",
      "Dark - No Street Lights       1537\n",
      "Dark - Street Lights Off      1199\n",
      "Other                          235\n",
      "Dark - Unknown Lighting         11\n",
      "Name: LIGHTCOND, dtype: int64\n",
      "Y    9333\n",
      "Name: SPEEDING, dtype: int64\n",
      "N    187457\n",
      "Y      7216\n",
      "Name: HITPARKEDCAR, dtype: int64\n",
      "1    136485\n",
      "2     58188\n",
      "Name: SEVERITYCODE, dtype: int64\n"
     ]
    }
   ],
   "source": [
    "print(df['WEATHER'].value_counts())\n",
    "print(df['ROADCOND'].value_counts())\n",
    "print(df['LIGHTCOND'].value_counts())\n",
    "print(df['SPEEDING'].value_counts()) #we dont need this cos ti has lots of Nan\n",
    "print(df['HITPARKEDCAR'].value_counts())\n",
    "print(df['SEVERITYCODE'].value_counts())"
   ]
  },
  {
   "cell_type": "markdown",
   "metadata": {},
   "source": [
    "## Create the features dataframe\n"
   ]
  },
  {
   "cell_type": "code",
   "execution_count": null,
   "metadata": {},
   "outputs": [],
   "source": []
  },
  {
   "cell_type": "markdown",
   "metadata": {},
   "source": [
    "### Convert categorical to numerical"
   ]
  },
  {
   "cell_type": "code",
   "execution_count": 16,
   "metadata": {},
   "outputs": [
    {
     "name": "stdout",
     "output_type": "stream",
     "text": [
      "ADDRTYPE      SEVERITYCODE\n",
      "Alley         1               0.890812\n",
      "              2               0.109188\n",
      "Block         1               0.762885\n",
      "              2               0.237115\n",
      "Intersection  1               0.572476\n",
      "              2               0.427524\n",
      "Name: SEVERITYCODE, dtype: float64\n",
      "COLLISIONTYPE  SEVERITYCODE\n",
      "Angles         1               0.607083\n",
      "               2               0.392917\n",
      "Cycles         2               0.876085\n",
      "               1               0.123915\n",
      "Head On        1               0.569170\n",
      "               2               0.430830\n",
      "Left Turn      1               0.605123\n",
      "               2               0.394877\n",
      "Other          1               0.742142\n",
      "               2               0.257858\n",
      "Parked Car     1               0.944527\n",
      "               2               0.055473\n",
      "Pedestrian     2               0.898305\n",
      "               1               0.101695\n",
      "Rear Ended     1               0.569639\n",
      "               2               0.430361\n",
      "Right Turn     1               0.793978\n",
      "               2               0.206022\n",
      "Sideswipe      1               0.865334\n",
      "               2               0.134666\n",
      "Name: SEVERITYCODE, dtype: float64\n",
      "None\n",
      "JUNCTIONTYPE                                       SEVERITYCODE\n",
      "At Intersection (but not related to intersection)  1               0.703051\n",
      "                                                   2               0.296949\n",
      "At Intersection (intersection related)             1               0.567362\n",
      "                                                   2               0.432638\n",
      "Driveway Junction                                  1               0.696936\n",
      "                                                   2               0.303064\n",
      "Mid-Block (but intersection related)               1               0.679816\n",
      "                                                   2               0.320184\n",
      "Mid-Block (not related to intersection)            1               0.783920\n",
      "                                                   2               0.216080\n",
      "Ramp Junction                                      1               0.674699\n",
      "                                                   2               0.325301\n",
      "Unknown                                            1               0.777778\n",
      "                                                   2               0.222222\n",
      "Name: SEVERITYCODE, dtype: float64\n",
      "None\n",
      "WEATHER                   SEVERITYCODE\n",
      "Blowing Sand/Dirt         1               0.732143\n",
      "                          2               0.267857\n",
      "Clear                     1               0.677509\n",
      "                          2               0.322491\n",
      "Fog/Smog/Smoke            1               0.671353\n",
      "                          2               0.328647\n",
      "Other                     1               0.860577\n",
      "                          2               0.139423\n",
      "Overcast                  1               0.684456\n",
      "                          2               0.315544\n",
      "Partly Cloudy             2               0.600000\n",
      "                          1               0.400000\n",
      "Raining                   1               0.662815\n",
      "                          2               0.337185\n",
      "Severe Crosswind          1               0.720000\n",
      "                          2               0.280000\n",
      "Sleet/Hail/Freezing Rain  1               0.752212\n",
      "                          2               0.247788\n",
      "Snowing                   1               0.811466\n",
      "                          2               0.188534\n",
      "Unknown                   1               0.945928\n",
      "                          2               0.054072\n",
      "Name: SEVERITYCODE, dtype: float64\n",
      "None\n",
      "ROADCOND        SEVERITYCODE\n",
      "Dry             1               0.678227\n",
      "                2               0.321773\n",
      "Ice             1               0.774194\n",
      "                2               0.225806\n",
      "Oil             1               0.625000\n",
      "                2               0.375000\n",
      "Other           1               0.674242\n",
      "                2               0.325758\n",
      "Sand/Mud/Dirt   1               0.693333\n",
      "                2               0.306667\n",
      "Snow/Slush      1               0.833665\n",
      "                2               0.166335\n",
      "Standing Water  1               0.739130\n",
      "                2               0.260870\n",
      "Unknown         1               0.950325\n",
      "                2               0.049675\n",
      "Wet             1               0.668134\n",
      "                2               0.331866\n",
      "Name: SEVERITYCODE, dtype: float64\n",
      "None\n",
      "HITPARKEDCAR  SEVERITYCODE\n",
      "N             1               0.691983\n",
      "              2               0.308017\n",
      "Y             1               0.937916\n",
      "              2               0.062084\n",
      "Name: SEVERITYCODE, dtype: float64\n",
      "None\n"
     ]
    }
   ],
   "source": [
    "# addrtype feature\n",
    "print(df.groupby(['ADDRTYPE'])['SEVERITYCODE'].value_counts(normalize=True))\n",
    "\n",
    "print(print(df.groupby(['COLLISIONTYPE'])['SEVERITYCODE'].value_counts(normalize=True)))\n",
    "print(print(df.groupby(['JUNCTIONTYPE'])['SEVERITYCODE'].value_counts(normalize=True)))\n",
    "print(print(df.groupby(['WEATHER'])['SEVERITYCODE'].value_counts(normalize=True)))\n",
    "print(print(df.groupby(['ROADCOND'])['SEVERITYCODE'].value_counts(normalize=True)))\n",
    "print(print(df.groupby(['HITPARKEDCAR'])['SEVERITYCODE'].value_counts(normalize=True)))\n",
    "\n",
    "#conver hitparkedcar to numerical\n",
    "df['HITPARKEDCAR'].replace(to_replace=['N','Y'], value=[0,1],inplace=True)"
   ]
  },
  {
   "cell_type": "markdown",
   "metadata": {},
   "source": [
    "### use one hot encoding to convert the categorical variables that are not binary to numerical\n"
   ]
  },
  {
   "cell_type": "code",
   "execution_count": 17,
   "metadata": {},
   "outputs": [
    {
     "data": {
      "text/html": [
       "<div>\n",
       "<style scoped>\n",
       "    .dataframe tbody tr th:only-of-type {\n",
       "        vertical-align: middle;\n",
       "    }\n",
       "\n",
       "    .dataframe tbody tr th {\n",
       "        vertical-align: top;\n",
       "    }\n",
       "\n",
       "    .dataframe thead th {\n",
       "        text-align: right;\n",
       "    }\n",
       "</style>\n",
       "<table border=\"1\" class=\"dataframe\">\n",
       "  <thead>\n",
       "    <tr style=\"text-align: right;\">\n",
       "      <th></th>\n",
       "      <th>PERSONCOUNT</th>\n",
       "      <th>PEDCOUNT</th>\n",
       "      <th>VEHCOUNT</th>\n",
       "      <th>HITPARKEDCAR</th>\n",
       "      <th>ADDRTYPE_Alley</th>\n",
       "      <th>ADDRTYPE_Block</th>\n",
       "      <th>ADDRTYPE_Intersection</th>\n",
       "      <th>COLLISIONTYPE_Angles</th>\n",
       "      <th>COLLISIONTYPE_Cycles</th>\n",
       "      <th>COLLISIONTYPE_Head On</th>\n",
       "      <th>...</th>\n",
       "      <th>ROADCOND_Wet</th>\n",
       "      <th>LIGHTCOND_Dark - No Street Lights</th>\n",
       "      <th>LIGHTCOND_Dark - Street Lights Off</th>\n",
       "      <th>LIGHTCOND_Dark - Street Lights On</th>\n",
       "      <th>LIGHTCOND_Dark - Unknown Lighting</th>\n",
       "      <th>LIGHTCOND_Dawn</th>\n",
       "      <th>LIGHTCOND_Daylight</th>\n",
       "      <th>LIGHTCOND_Dusk</th>\n",
       "      <th>LIGHTCOND_Other</th>\n",
       "      <th>LIGHTCOND_Unknown</th>\n",
       "    </tr>\n",
       "  </thead>\n",
       "  <tbody>\n",
       "    <tr>\n",
       "      <td>0</td>\n",
       "      <td>2</td>\n",
       "      <td>0</td>\n",
       "      <td>2</td>\n",
       "      <td>0</td>\n",
       "      <td>0</td>\n",
       "      <td>0</td>\n",
       "      <td>1</td>\n",
       "      <td>1</td>\n",
       "      <td>0</td>\n",
       "      <td>0</td>\n",
       "      <td>...</td>\n",
       "      <td>1</td>\n",
       "      <td>0</td>\n",
       "      <td>0</td>\n",
       "      <td>0</td>\n",
       "      <td>0</td>\n",
       "      <td>0</td>\n",
       "      <td>1</td>\n",
       "      <td>0</td>\n",
       "      <td>0</td>\n",
       "      <td>0</td>\n",
       "    </tr>\n",
       "    <tr>\n",
       "      <td>1</td>\n",
       "      <td>2</td>\n",
       "      <td>0</td>\n",
       "      <td>2</td>\n",
       "      <td>0</td>\n",
       "      <td>0</td>\n",
       "      <td>1</td>\n",
       "      <td>0</td>\n",
       "      <td>0</td>\n",
       "      <td>0</td>\n",
       "      <td>0</td>\n",
       "      <td>...</td>\n",
       "      <td>1</td>\n",
       "      <td>0</td>\n",
       "      <td>0</td>\n",
       "      <td>1</td>\n",
       "      <td>0</td>\n",
       "      <td>0</td>\n",
       "      <td>0</td>\n",
       "      <td>0</td>\n",
       "      <td>0</td>\n",
       "      <td>0</td>\n",
       "    </tr>\n",
       "    <tr>\n",
       "      <td>2</td>\n",
       "      <td>4</td>\n",
       "      <td>0</td>\n",
       "      <td>3</td>\n",
       "      <td>0</td>\n",
       "      <td>0</td>\n",
       "      <td>1</td>\n",
       "      <td>0</td>\n",
       "      <td>0</td>\n",
       "      <td>0</td>\n",
       "      <td>0</td>\n",
       "      <td>...</td>\n",
       "      <td>0</td>\n",
       "      <td>0</td>\n",
       "      <td>0</td>\n",
       "      <td>0</td>\n",
       "      <td>0</td>\n",
       "      <td>0</td>\n",
       "      <td>1</td>\n",
       "      <td>0</td>\n",
       "      <td>0</td>\n",
       "      <td>0</td>\n",
       "    </tr>\n",
       "    <tr>\n",
       "      <td>3</td>\n",
       "      <td>3</td>\n",
       "      <td>0</td>\n",
       "      <td>3</td>\n",
       "      <td>0</td>\n",
       "      <td>0</td>\n",
       "      <td>1</td>\n",
       "      <td>0</td>\n",
       "      <td>0</td>\n",
       "      <td>0</td>\n",
       "      <td>0</td>\n",
       "      <td>...</td>\n",
       "      <td>0</td>\n",
       "      <td>0</td>\n",
       "      <td>0</td>\n",
       "      <td>0</td>\n",
       "      <td>0</td>\n",
       "      <td>0</td>\n",
       "      <td>1</td>\n",
       "      <td>0</td>\n",
       "      <td>0</td>\n",
       "      <td>0</td>\n",
       "    </tr>\n",
       "    <tr>\n",
       "      <td>4</td>\n",
       "      <td>2</td>\n",
       "      <td>0</td>\n",
       "      <td>2</td>\n",
       "      <td>0</td>\n",
       "      <td>0</td>\n",
       "      <td>0</td>\n",
       "      <td>1</td>\n",
       "      <td>1</td>\n",
       "      <td>0</td>\n",
       "      <td>0</td>\n",
       "      <td>...</td>\n",
       "      <td>1</td>\n",
       "      <td>0</td>\n",
       "      <td>0</td>\n",
       "      <td>0</td>\n",
       "      <td>0</td>\n",
       "      <td>0</td>\n",
       "      <td>1</td>\n",
       "      <td>0</td>\n",
       "      <td>0</td>\n",
       "      <td>0</td>\n",
       "    </tr>\n",
       "  </tbody>\n",
       "</table>\n",
       "<p>5 rows × 53 columns</p>\n",
       "</div>"
      ],
      "text/plain": [
       "   PERSONCOUNT  PEDCOUNT  VEHCOUNT  HITPARKEDCAR  ADDRTYPE_Alley  \\\n",
       "0            2         0         2             0               0   \n",
       "1            2         0         2             0               0   \n",
       "2            4         0         3             0               0   \n",
       "3            3         0         3             0               0   \n",
       "4            2         0         2             0               0   \n",
       "\n",
       "   ADDRTYPE_Block  ADDRTYPE_Intersection  COLLISIONTYPE_Angles  \\\n",
       "0               0                      1                     1   \n",
       "1               1                      0                     0   \n",
       "2               1                      0                     0   \n",
       "3               1                      0                     0   \n",
       "4               0                      1                     1   \n",
       "\n",
       "   COLLISIONTYPE_Cycles  COLLISIONTYPE_Head On  ...  ROADCOND_Wet  \\\n",
       "0                     0                      0  ...             1   \n",
       "1                     0                      0  ...             1   \n",
       "2                     0                      0  ...             0   \n",
       "3                     0                      0  ...             0   \n",
       "4                     0                      0  ...             1   \n",
       "\n",
       "   LIGHTCOND_Dark - No Street Lights  LIGHTCOND_Dark - Street Lights Off  \\\n",
       "0                                  0                                   0   \n",
       "1                                  0                                   0   \n",
       "2                                  0                                   0   \n",
       "3                                  0                                   0   \n",
       "4                                  0                                   0   \n",
       "\n",
       "   LIGHTCOND_Dark - Street Lights On  LIGHTCOND_Dark - Unknown Lighting  \\\n",
       "0                                  0                                  0   \n",
       "1                                  1                                  0   \n",
       "2                                  0                                  0   \n",
       "3                                  0                                  0   \n",
       "4                                  0                                  0   \n",
       "\n",
       "   LIGHTCOND_Dawn  LIGHTCOND_Daylight  LIGHTCOND_Dusk  LIGHTCOND_Other  \\\n",
       "0               0                   1               0                0   \n",
       "1               0                   0               0                0   \n",
       "2               0                   1               0                0   \n",
       "3               0                   1               0                0   \n",
       "4               0                   1               0                0   \n",
       "\n",
       "   LIGHTCOND_Unknown  \n",
       "0                  0  \n",
       "1                  0  \n",
       "2                  0  \n",
       "3                  0  \n",
       "4                  0  \n",
       "\n",
       "[5 rows x 53 columns]"
      ]
     },
     "execution_count": 17,
     "metadata": {},
     "output_type": "execute_result"
    }
   ],
   "source": [
    "Features_toconvert = df[['ADDRTYPE', 'COLLISIONTYPE', 'JUNCTIONTYPE','WEATHER','ROADCOND','LIGHTCOND']]\n",
    "Features = df[['PERSONCOUNT','PEDCOUNT', \n",
    "              'VEHCOUNT','HITPARKEDCAR']]\n",
    "Features = pd.concat([Features,pd.get_dummies(data = Features_toconvert, columns = ['ADDRTYPE', 'COLLISIONTYPE', 'JUNCTIONTYPE','WEATHER',\n",
    "                                                                    'ROADCOND','LIGHTCOND'])], axis=1)\n",
    "Features.head()\n"
   ]
  },
  {
   "cell_type": "markdown",
   "metadata": {},
   "source": [
    "## Feature Selection\n",
    "\n",
    "### specify the x and y dataframes\n"
   ]
  },
  {
   "cell_type": "code",
   "execution_count": 18,
   "metadata": {},
   "outputs": [
    {
     "data": {
      "text/plain": [
       "array([2, 1, 1, ..., 2, 2, 1], dtype=int64)"
      ]
     },
     "execution_count": 18,
     "metadata": {},
     "output_type": "execute_result"
    }
   ],
   "source": [
    "X = Features\n",
    "X.head()\n",
    "\n",
    "Y = df['SEVERITYCODE'].values\n",
    "Y"
   ]
  },
  {
   "cell_type": "code",
   "execution_count": 19,
   "metadata": {},
   "outputs": [
    {
     "name": "stdout",
     "output_type": "stream",
     "text": [
      "Train set: (155738, 53) (155738,)\n",
      "Test set: (38935, 53) (38935,)\n"
     ]
    }
   ],
   "source": [
    "# We split the X into train and test to find the best k\n",
    "from sklearn.model_selection import train_test_split\n",
    "X_train, X_test, y_train, y_test = train_test_split(X, Y, test_size=0.2, random_state=4)\n",
    "print ('Train set:', X_train.shape,  y_train.shape)\n",
    "print ('Test set:', X_test.shape,  y_test.shape)"
   ]
  },
  {
   "cell_type": "markdown",
   "metadata": {},
   "source": [
    "## Classification Algorithms \n"
   ]
  },
  {
   "cell_type": "markdown",
   "metadata": {},
   "source": [
    "### KNN Algorithm\n"
   ]
  },
  {
   "cell_type": "code",
   "execution_count": 20,
   "metadata": {},
   "outputs": [
    {
     "data": {
      "text/plain": [
       "KNeighborsClassifier(algorithm='auto', leaf_size=30, metric='minkowski',\n",
       "                     metric_params=None, n_jobs=None, n_neighbors=3, p=2,\n",
       "                     weights='uniform')"
      ]
     },
     "execution_count": 20,
     "metadata": {},
     "output_type": "execute_result"
    }
   ],
   "source": [
    "# Modeling\n",
    "from sklearn.neighbors import KNeighborsClassifier\n",
    "k = 3\n",
    "#Train Model and Predict  \n",
    "kNN_model = KNeighborsClassifier(n_neighbors=k).fit(X_train,y_train)\n",
    "kNN_model"
   ]
  },
  {
   "cell_type": "code",
   "execution_count": 21,
   "metadata": {},
   "outputs": [
    {
     "data": {
      "text/plain": [
       "array([0.67833569, 0.73525106, 0.71996918, 0.74367536, 0.73543085,\n",
       "       0.74714267, 0.7413895 , 0.75019905, 0.74449724])"
      ]
     },
     "execution_count": 21,
     "metadata": {},
     "output_type": "execute_result"
    }
   ],
   "source": [
    "# Best k\n",
    "Ks=10\n",
    "mean_acc=np.zeros((Ks-1))\n",
    "std_acc=np.zeros((Ks-1))\n",
    "ConfustionMx=[];\n",
    "for n in range(1,Ks):\n",
    "    \n",
    "    #Train Model and Predict  \n",
    "    kNN_model = KNeighborsClassifier(n_neighbors=n).fit(X_train,y_train)\n",
    "    yhat = kNN_model.predict(X_test)\n",
    "    \n",
    "    \n",
    "    mean_acc[n-1]=np.mean(yhat==y_test);\n",
    "    \n",
    "    std_acc[n-1]=np.std(yhat==y_test)/np.sqrt(yhat.shape[0])\n",
    "mean_acc"
   ]
  },
  {
   "cell_type": "code",
   "execution_count": 22,
   "metadata": {},
   "outputs": [
    {
     "data": {
      "image/png": "[encoded data removed]",
      "text/plain": [
       "<Figure size 432x288 with 1 Axes>"
      ]
     },
     "metadata": {
      "needs_background": "light"
     },
     "output_type": "display_data"
    }
   ],
   "source": [
    "plt.plot(range(1,Ks),mean_acc,'g')\n",
    "plt.fill_between(range(1,Ks),mean_acc - 1 * std_acc,mean_acc + 1 * std_acc, alpha=0.10)\n",
    "plt.legend(('Accuracy ', '+/- 3xstd'))\n",
    "plt.ylabel('Accuracy ')\n",
    "plt.xlabel('Number of Nabors (K)')\n",
    "plt.tight_layout()\n",
    "plt.show()"
   ]
  },
  {
   "cell_type": "code",
   "execution_count": 23,
   "metadata": {},
   "outputs": [
    {
     "name": "stdout",
     "output_type": "stream",
     "text": [
      "The best accuracy for KNN was with 0.7501990496982149 with k= 8\n"
     ]
    }
   ],
   "source": [
    "print( \"The best accuracy for KNN was with\", mean_acc.max(), \"with k=\", mean_acc.argmax()+1) "
   ]
  },
  {
   "cell_type": "code",
   "execution_count": 24,
   "metadata": {},
   "outputs": [
    {
     "data": {
      "text/plain": [
       "KNeighborsClassifier(algorithm='auto', leaf_size=30, metric='minkowski',\n",
       "                     metric_params=None, n_jobs=None, n_neighbors=8, p=2,\n",
       "                     weights='uniform')"
      ]
     },
     "execution_count": 24,
     "metadata": {},
     "output_type": "execute_result"
    }
   ],
   "source": [
    "# Building the model again, using the best k gotten above.  k=8\n",
    "from sklearn.neighbors import KNeighborsClassifier\n",
    "k = 8\n",
    "#Train Model and Predict  \n",
    "kNN_model = KNeighborsClassifier(n_neighbors=k).fit(X_train,y_train)\n",
    "kNN_model"
   ]
  },
  {
   "cell_type": "markdown",
   "metadata": {},
   "source": [
    "### Decision Tree"
   ]
  },
  {
   "cell_type": "code",
   "execution_count": 25,
   "metadata": {},
   "outputs": [
    {
     "data": {
      "text/plain": [
       "DecisionTreeClassifier(class_weight=None, criterion='entropy', max_depth=4,\n",
       "                       max_features=None, max_leaf_nodes=None,\n",
       "                       min_impurity_decrease=0.0, min_impurity_split=None,\n",
       "                       min_samples_leaf=1, min_samples_split=2,\n",
       "                       min_weight_fraction_leaf=0.0, presort=False,\n",
       "                       random_state=None, splitter='best')"
      ]
     },
     "execution_count": 25,
     "metadata": {},
     "output_type": "execute_result"
    }
   ],
   "source": [
    "from sklearn.tree import DecisionTreeClassifier\n",
    "DT_model = DecisionTreeClassifier(criterion=\"entropy\", max_depth = 4)\n",
    "DT_model.fit(X_train,y_train)\n",
    "DT_model"
   ]
  },
  {
   "cell_type": "code",
   "execution_count": 26,
   "metadata": {},
   "outputs": [
    {
     "data": {
      "text/plain": [
       "array([1, 1, 1, ..., 1, 1, 1], dtype=int64)"
      ]
     },
     "execution_count": 26,
     "metadata": {},
     "output_type": "execute_result"
    }
   ],
   "source": [
    "yhat = DT_model.predict(X_test)\n",
    "yhat"
   ]
  },
  {
   "cell_type": "code",
   "execution_count": 27,
   "metadata": {},
   "outputs": [
    {
     "data": {
      "text/plain": [
       "2"
      ]
     },
     "execution_count": 27,
     "metadata": {},
     "output_type": "execute_result"
    }
   ],
   "source": [
    "1+1"
   ]
  },
  {
   "cell_type": "markdown",
   "metadata": {},
   "source": [
    "### Logistic Regression"
   ]
  },
  {
   "cell_type": "code",
   "execution_count": 28,
   "metadata": {},
   "outputs": [
    {
     "name": "stderr",
     "output_type": "stream",
     "text": [
      "C:\\Users\\Aeesha\\Anaconda3\\lib\\site-packages\\sklearn\\linear_model\\logistic.py:432: FutureWarning: Default solver will be changed to 'lbfgs' in 0.22. Specify a solver to silence this warning.\n",
      "  FutureWarning)\n"
     ]
    },
    {
     "data": {
      "text/plain": [
       "LogisticRegression(C=0.01, class_weight=None, dual=False, fit_intercept=True,\n",
       "                   intercept_scaling=1, l1_ratio=None, max_iter=100,\n",
       "                   multi_class='warn', n_jobs=None, penalty='l2',\n",
       "                   random_state=None, solver='warn', tol=0.0001, verbose=0,\n",
       "                   warm_start=False)"
      ]
     },
     "execution_count": 28,
     "metadata": {},
     "output_type": "execute_result"
    }
   ],
   "source": [
    "from sklearn.linear_model import LogisticRegression\n",
    "LR_model = LogisticRegression(C=0.01).fit(X_train,y_train)\n",
    "LR_model"
   ]
  },
  {
   "cell_type": "code",
   "execution_count": 29,
   "metadata": {},
   "outputs": [
    {
     "data": {
      "text/plain": [
       "array([1, 1, 1, ..., 1, 1, 2], dtype=int64)"
      ]
     },
     "execution_count": 29,
     "metadata": {},
     "output_type": "execute_result"
    }
   ],
   "source": [
    "yhat = LR_model.predict(X_test)\n",
    "yhat"
   ]
  },
  {
   "cell_type": "markdown",
   "metadata": {},
   "source": [
    "### SVM"
   ]
  },
  {
   "cell_type": "code",
   "execution_count": 30,
   "metadata": {},
   "outputs": [],
   "source": [
    "#from sklearn import svm\n",
    "#SVM_model = svm.SVC(probability=True)\n",
    "#SVM_model.fit(X_train, y_train) "
   ]
  },
  {
   "cell_type": "code",
   "execution_count": 31,
   "metadata": {},
   "outputs": [],
   "source": [
    "#yhat = SVM_model.predict(X_test)\n",
    "#yhat"
   ]
  },
  {
   "cell_type": "markdown",
   "metadata": {},
   "source": [
    "## Evaluation"
   ]
  },
  {
   "cell_type": "code",
   "execution_count": 32,
   "metadata": {},
   "outputs": [],
   "source": [
    "from sklearn.metrics import jaccard_similarity_score\n",
    "from sklearn.metrics import f1_score\n",
    "from sklearn.metrics import log_loss"
   ]
  },
  {
   "cell_type": "code",
   "execution_count": 33,
   "metadata": {},
   "outputs": [
    {
     "name": "stderr",
     "output_type": "stream",
     "text": [
      "C:\\Users\\Aeesha\\Anaconda3\\lib\\site-packages\\sklearn\\metrics\\classification.py:635: DeprecationWarning: jaccard_similarity_score has been deprecated and replaced with jaccard_score. It will be removed in version 0.23. This implementation has surprising behavior for binary and multiclass classification tasks.\n",
      "  'and multiclass classification tasks.', DeprecationWarning)\n",
      "C:\\Users\\Aeesha\\Anaconda3\\lib\\site-packages\\sklearn\\metrics\\classification.py:635: DeprecationWarning: jaccard_similarity_score has been deprecated and replaced with jaccard_score. It will be removed in version 0.23. This implementation has surprising behavior for binary and multiclass classification tasks.\n",
      "  'and multiclass classification tasks.', DeprecationWarning)\n",
      "C:\\Users\\Aeesha\\Anaconda3\\lib\\site-packages\\sklearn\\metrics\\classification.py:635: DeprecationWarning: jaccard_similarity_score has been deprecated and replaced with jaccard_score. It will be removed in version 0.23. This implementation has surprising behavior for binary and multiclass classification tasks.\n",
      "  'and multiclass classification tasks.', DeprecationWarning)\n"
     ]
    }
   ],
   "source": [
    "#KNN\n",
    "\n",
    "yhat_knn = kNN_model.predict(X_test)\n",
    "jaccard_knn = jaccard_similarity_score(yhat_knn, y_test)\n",
    "f1score_knn = f1_score(yhat_knn, y_test)\n",
    "probs = kNN_model.predict_proba(X_test)\n",
    "logloss_knn = log_loss(y_test, probs)\n",
    "\n",
    "## Decision Tree \n",
    "yhat_dt = DT_model.predict(X_test)\n",
    "jaccard_dt = jaccard_similarity_score(yhat_dt, y_test)\n",
    "f1score_dt = f1_score(yhat_dt, y_test)\n",
    "probs = DT_model.predict_proba(X_test)\n",
    "logloss_dt = log_loss(y_test, probs)\n",
    "\n",
    "## Logistic Regression \n",
    "yhat_lr = LR_model.predict(X_test)\n",
    "jaccard_lr = jaccard_similarity_score(yhat_lr, y_test)\n",
    "f1score_lr = f1_score(yhat_lr, y_test)\n",
    "probs = LR_model.predict_proba(X_test)\n",
    "logloss_lr = log_loss(y_test, probs)\n",
    "\n"
   ]
  },
  {
   "cell_type": "code",
   "execution_count": 34,
   "metadata": {},
   "outputs": [],
   "source": [
    "## SVM\n",
    "#yhat_svm = SVM_model.predict(X_test)\n",
    "#jaccard_svm = jaccard_similarity_score(yhat_svm, y_test)\n",
    "#f1score_svm = f1_score(yhat_svm, y_test)\n",
    "#probs = SVM_model.predict_proba(X_test)\n",
    "#logloss_svm = log_loss(y_test, probs)"
   ]
  },
  {
   "cell_type": "code",
   "execution_count": 35,
   "metadata": {},
   "outputs": [
    {
     "data": {
      "text/html": [
       "<div>\n",
       "<style scoped>\n",
       "    .dataframe tbody tr th:only-of-type {\n",
       "        vertical-align: middle;\n",
       "    }\n",
       "\n",
       "    .dataframe tbody tr th {\n",
       "        vertical-align: top;\n",
       "    }\n",
       "\n",
       "    .dataframe thead th {\n",
       "        text-align: right;\n",
       "    }\n",
       "</style>\n",
       "<table border=\"1\" class=\"dataframe\">\n",
       "  <thead>\n",
       "    <tr style=\"text-align: right;\">\n",
       "      <th></th>\n",
       "      <th>Algorithm</th>\n",
       "      <th>Jaccard</th>\n",
       "      <th>F1-score</th>\n",
       "      <th>LogLoss</th>\n",
       "    </tr>\n",
       "  </thead>\n",
       "  <tbody>\n",
       "    <tr>\n",
       "      <td>0</td>\n",
       "      <td>KNN</td>\n",
       "      <td>0.750199</td>\n",
       "      <td>0.839181</td>\n",
       "      <td>1.064561</td>\n",
       "    </tr>\n",
       "    <tr>\n",
       "      <td>1</td>\n",
       "      <td>Decision Tree</td>\n",
       "      <td>0.753076</td>\n",
       "      <td>0.849546</td>\n",
       "      <td>0.493511</td>\n",
       "    </tr>\n",
       "    <tr>\n",
       "      <td>2</td>\n",
       "      <td>Logistic Regression</td>\n",
       "      <td>0.759933</td>\n",
       "      <td>0.850052</td>\n",
       "      <td>0.481817</td>\n",
       "    </tr>\n",
       "  </tbody>\n",
       "</table>\n",
       "</div>"
      ],
      "text/plain": [
       "             Algorithm   Jaccard  F1-score   LogLoss\n",
       "0                  KNN  0.750199  0.839181  1.064561\n",
       "1        Decision Tree  0.753076  0.849546  0.493511\n",
       "2  Logistic Regression  0.759933  0.850052  0.481817"
      ]
     },
     "execution_count": 35,
     "metadata": {},
     "output_type": "execute_result"
    }
   ],
   "source": [
    "table = pd.DataFrame()\n",
    "table[\"Algorithm\"] = [\"KNN\",\"Decision Tree\",\"Logistic Regression\"]\n",
    "table[\"Jaccard\"] = [jaccard_knn,jaccard_dt, jaccard_lr]\n",
    "table[\"F1-score\"] =[f1score_knn,f1score_dt,f1score_lr]\n",
    "table[\"LogLoss\"] =[logloss_knn, logloss_dt,logloss_lr]\n",
    "table"
   ]
  },
  {
   "cell_type": "code",
   "execution_count": null,
   "metadata": {},
   "outputs": [],
   "source": []
  }
 ],
 "metadata": {
  "kernelspec": {
   "display_name": "Python 3",
   "language": "python",
   "name": "python3"
  },
  "language_info": {
   "codemirror_mode": {
    "name": "ipython",
    "version": 3
   },
   "file_extension": ".py",
   "mimetype": "text/x-python",
   "name": "python",
   "nbconvert_exporter": "python",
   "pygments_lexer": "ipython3",
   "version": "3.7.4"
  }
 },
 "nbformat": 4,
 "nbformat_minor": 2
}
